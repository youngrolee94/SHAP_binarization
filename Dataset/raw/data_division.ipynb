{
 "cells": [
  {
   "cell_type": "code",
   "execution_count": 2,
   "id": "36a44fef",
   "metadata": {},
   "outputs": [],
   "source": [
    "\n",
    "import numpy as np\n",
    "from sklearn.model_selection import KFold"
   ]
  },
  {
   "cell_type": "code",
   "execution_count": 3,
   "id": "c7e71aa0",
   "metadata": {},
   "outputs": [],
   "source": [
    "\n",
    "# Parameters to set before experiments\n",
    "\n",
    "level = \"genus\"\n",
    "data_name ='raw'\n",
    "# cv_num=5\n",
    "\n",
    "cv_num=2+3"
   ]
  },
  {
   "cell_type": "code",
   "execution_count": 4,
   "id": "5d38ae64",
   "metadata": {},
   "outputs": [],
   "source": [
    "# data call \n",
    "\n",
    "features = np.load('../../Dataset/%s/%s/features.npy'%(data_name,level))\n",
    "label = np.load('../../Dataset/%s/%s/label.npy'%(data_name,level))\n"
   ]
  },
  {
   "cell_type": "code",
   "execution_count": 6,
   "id": "2e30fefc",
   "metadata": {},
   "outputs": [],
   "source": [
    "\n",
    "data = np.arange(label.shape[0])\n",
    "kfold = KFold(cv_num, True, 0)\n",
    "\n",
    "fold_num = 0 \n",
    "for train, test in kfold.split(data):\n",
    "    np.save(\"%s/%s_training_features.npy\"%(level,fold_num),features[train,:])\n",
    "    np.save(\"%s/%s_training_label.npy\"%(level,fold_num),label[train])\n",
    "    \n",
    "    \n",
    "    np.save(\"%s/%s_test_features.npy\"%(level,fold_num),features[test,:])\n",
    "    np.save(\"%s/%s_test_label.npy\"%(level,fold_num),label[test])\n",
    "    \n",
    "    fold_num+=1"
   ]
  },
  {
   "cell_type": "code",
   "execution_count": 9,
   "id": "fffc87f3",
   "metadata": {},
   "outputs": [
    {
     "name": "stdout",
     "output_type": "stream",
     "text": [
      "0.46178343949044587\n",
      "0.46178343949044587\n",
      "0.445859872611465\n",
      "0.445859872611465\n",
      "0.43312101910828027\n",
      "0.43312101910828027\n",
      "0.46496815286624205\n",
      "0.46496815286624205\n",
      "0.43130990415335463\n",
      "0.43130990415335463\n"
     ]
    }
   ],
   "source": [
    "for fold_num in range(cv_num):\n",
    "    training_label_species = np.load(\"%s/%s_training_label.npy\"%(\"species\",fold_num))\n",
    "    \n",
    "    test_label_species = np.load(\"%s/%s_test_label.npy\"%(\"species\",fold_num))\n",
    "    \n",
    "    training_label_genus = np.load(\"%s/%s_training_label.npy\"%(\"genus\",fold_num))\n",
    "    test_label_genus = np.load(\"%s/%s_test_label.npy\"%(\"genus\",fold_num))\n",
    "    \n",
    "    print(np.sum(test_label_species)/test_label_species.shape[0])\n",
    "    print(np.sum(test_label_genus)/test_label_genus.shape[0])\n",
    "#     print(np.sum(np.abs(test_label_species-test_label_genus)))"
   ]
  }
 ],
 "metadata": {
  "kernelspec": {
   "display_name": "Python 3 (ipykernel)",
   "language": "python",
   "name": "python3"
  },
  "language_info": {
   "codemirror_mode": {
    "name": "ipython",
    "version": 3
   },
   "file_extension": ".py",
   "mimetype": "text/x-python",
   "name": "python",
   "nbconvert_exporter": "python",
   "pygments_lexer": "ipython3",
   "version": "3.9.7"
  }
 },
 "nbformat": 4,
 "nbformat_minor": 5
}
